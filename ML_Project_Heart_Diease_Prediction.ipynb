{
  "nbformat": 4,
  "nbformat_minor": 0,
  "metadata": {
    "colab": {
      "provenance": [],
      "authorship_tag": "ABX9TyOMfRa3GstKsuf7EPWYOa0k",
      "include_colab_link": true
    },
    "kernelspec": {
      "name": "python3",
      "display_name": "Python 3"
    },
    "language_info": {
      "name": "python"
    }
  },
  "cells": [
    {
      "cell_type": "markdown",
      "metadata": {
        "id": "view-in-github",
        "colab_type": "text"
      },
      "source": [
        "<a href=\"https://colab.research.google.com/github/Donalizasaji/Projects/blob/main/ML_Project_Heart_Diease_Prediction.ipynb\" target=\"_parent\"><img src=\"https://colab.research.google.com/assets/colab-badge.svg\" alt=\"Open In Colab\"/></a>"
      ]
    },
    {
      "cell_type": "code",
      "execution_count": null,
      "metadata": {
        "id": "dVMBbN49Zfra"
      },
      "outputs": [],
      "source": [
        "!pip install pandas-profiling"
      ]
    },
    {
      "cell_type": "code",
      "source": [
        "!pip install sweetviz"
      ],
      "metadata": {
        "id": "UQFU6_DiZjcE"
      },
      "execution_count": null,
      "outputs": []
    },
    {
      "cell_type": "code",
      "source": [
        "import pandas as pd\n",
        "import numpy as np\n",
        "#EDA\n",
        "import matplotlib.pyplot as plt\n",
        "from pandas_profiling import ProfileReport\n",
        "import seaborn as sns\n",
        "import sweetviz as sv\n",
        "#Scaling\n",
        "from sklearn.preprocessing import StandardScaler\n",
        "#Warning\n",
        "import warnings\n",
        "warnings.filterwarnings('ignore')\n",
        "#Statistical test\n",
        "from scipy.stats import chi2_contingency\n",
        "#Model building and models used\n",
        "from sklearn.model_selection import train_test_split\n",
        "from collections import Counter\n",
        "from sklearn.linear_model import LogisticRegression\n",
        "from sklearn.tree import DecisionTreeClassifier\n",
        "from xgboost import XGBClassifier\n",
        "from keras.models import Sequential\n",
        "from keras.layers import Dense\n",
        "#Model metrics\n",
        "from sklearn.metrics import confusion_matrix,accuracy_score,roc_curve,classification_report"
      ],
      "metadata": {
        "id": "noNTotPrZmrL"
      },
      "execution_count": null,
      "outputs": []
    },
    {
      "cell_type": "code",
      "source": [
        "df=pd.read_csv('/content/Heart_Disease_Prediction.csv')\n",
        "df"
      ],
      "metadata": {
        "id": "lG5b1R6iZqNh"
      },
      "execution_count": null,
      "outputs": []
    },
    {
      "cell_type": "markdown",
      "source": [
        "Information about dataset"
      ],
      "metadata": {
        "id": "LwP9prrxZxL9"
      }
    },
    {
      "cell_type": "code",
      "source": [
        "df.shape"
      ],
      "metadata": {
        "id": "vHK4I8zNZqKn"
      },
      "execution_count": null,
      "outputs": []
    },
    {
      "cell_type": "code",
      "source": [
        "for c in df.columns:\n",
        "    uq = df[c].unique()\n",
        "    print('Unique values in ',c,':')\n",
        "    print(uq)"
      ],
      "metadata": {
        "id": "bbevwPxNZqGA"
      },
      "execution_count": null,
      "outputs": []
    },
    {
      "cell_type": "code",
      "source": [
        "df.duplicated().sum()"
      ],
      "metadata": {
        "id": "BmQ6HBi6ZqDG"
      },
      "execution_count": null,
      "outputs": []
    },
    {
      "cell_type": "code",
      "source": [
        "df.info()"
      ],
      "metadata": {
        "id": "YpCQYCZOZp_V"
      },
      "execution_count": null,
      "outputs": []
    },
    {
      "cell_type": "markdown",
      "source": [
        "Missing values"
      ],
      "metadata": {
        "id": "kBbmRvb0Z-Z9"
      }
    },
    {
      "cell_type": "code",
      "source": [
        "df.isnull().sum()"
      ],
      "metadata": {
        "id": "Sp408sFnZp88"
      },
      "execution_count": null,
      "outputs": []
    },
    {
      "cell_type": "markdown",
      "source": [
        "Column conversions\n",
        "\n",
        "Categorical to Numerical"
      ],
      "metadata": {
        "id": "yxnPEu2UaNqf"
      }
    },
    {
      "cell_type": "code",
      "source": [
        "#replace and mapping method\n",
        "mapping = {'Presence': 1, 'Absence': 0}\n",
        "df['Heart Disease'] = df['Heart Disease'].replace(mapping)"
      ],
      "metadata": {
        "id": "ZzKnQSD2aCan"
      },
      "execution_count": null,
      "outputs": []
    },
    {
      "cell_type": "code",
      "source": [
        "df['Heart Disease']"
      ],
      "metadata": {
        "id": "6G2xuXyaaCXI"
      },
      "execution_count": null,
      "outputs": []
    },
    {
      "cell_type": "markdown",
      "source": [
        "Outliers Detection"
      ],
      "metadata": {
        "id": "cd8ZilZzbCW-"
      }
    },
    {
      "cell_type": "code",
      "source": [
        "plt.boxplot(df['Age'], vert=False)\n",
        "plt.title('Boxplot for Age')\n",
        "plt.xlabel('Age')\n",
        "plt.show()"
      ],
      "metadata": {
        "id": "joVc6c5faCS5"
      },
      "execution_count": null,
      "outputs": []
    },
    {
      "cell_type": "code",
      "source": [
        "plt.boxplot(df['Thallium'], vert=False)\n",
        "plt.title('Boxplot for Thallium')\n",
        "plt.xlabel('Thallium')\n",
        "plt.show()"
      ],
      "metadata": {
        "id": "xTOMGIjKaCPp"
      },
      "execution_count": null,
      "outputs": []
    },
    {
      "cell_type": "code",
      "source": [
        "plt.boxplot(df['Max HR'], vert=False)\n",
        "plt.title('Boxplot for Max HR ')\n",
        "plt.xlabel('Max HR')\n",
        "plt.show()"
      ],
      "metadata": {
        "id": "_iMUx9rnbKek"
      },
      "execution_count": null,
      "outputs": []
    },
    {
      "cell_type": "code",
      "source": [
        "plt.boxplot(df['Cholesterol'], vert=False)\n",
        "plt.title('Boxplot for Cholesterol')\n",
        "plt.xlabel('Cholesterol')\n",
        "plt.show()"
      ],
      "metadata": {
        "id": "MDxcJHmyaCMV"
      },
      "execution_count": null,
      "outputs": []
    },
    {
      "cell_type": "markdown",
      "source": [
        "Removing outliers"
      ],
      "metadata": {
        "id": "MteWNAGzbVJc"
      }
    },
    {
      "cell_type": "code",
      "source": [
        "Q1 = df['Cholesterol'].quantile(0.25)\n",
        "Q3 = df['Cholesterol'].quantile(0.75)\n",
        "IQR = Q3 - Q1\n",
        "lb = Q1 - 1.5 * IQR\n",
        "ub = Q3 + 1.5 * IQR\n",
        "df = df[(df['Cholesterol'] >= lb) & (df['Cholesterol'] <= ub)]\n",
        "print(df)"
      ],
      "metadata": {
        "id": "A59Roc2zbTPG"
      },
      "execution_count": null,
      "outputs": []
    },
    {
      "cell_type": "code",
      "source": [
        "df.shape"
      ],
      "metadata": {
        "id": "5cr5tu8DbTLl"
      },
      "execution_count": null,
      "outputs": []
    },
    {
      "cell_type": "code",
      "source": [
        "profile = ProfileReport(df)\n",
        "profile.to_notebook_iframe()"
      ],
      "metadata": {
        "id": "6mAjPXJXbTJL"
      },
      "execution_count": null,
      "outputs": []
    },
    {
      "cell_type": "code",
      "source": [
        "df.hist(figsize=(12,12))\n",
        "plt.show()"
      ],
      "metadata": {
        "id": "7TDnTdqObf2E"
      },
      "execution_count": null,
      "outputs": []
    },
    {
      "cell_type": "code",
      "source": [
        "report = sv.analyze(df)\n",
        "report.show_html('sweetviz_report.html')"
      ],
      "metadata": {
        "id": "U3GKDMsWbfyp"
      },
      "execution_count": null,
      "outputs": []
    },
    {
      "cell_type": "code",
      "source": [
        "sns.boxplot(x='Sex', y='Cholesterol', data=df)\n",
        "plt.xlabel('Sex')\n",
        "plt.ylabel('Cholesterol Level')\n",
        "plt.title('Cholesterol Level by Sex')\n",
        "plt.show()"
      ],
      "metadata": {
        "id": "gZb51971bfwO"
      },
      "execution_count": null,
      "outputs": []
    },
    {
      "cell_type": "code",
      "source": [
        "plt.figure(figsize=(10, 6))\n",
        "sns.swarmplot(x='Heart Disease', y='Age', data=df, palette='Set1')\n",
        "plt.xlabel('Heart Disease')\n",
        "plt.ylabel('Age')\n",
        "plt.title('Age Distribution by Heart Disease')\n",
        "plt.show()"
      ],
      "metadata": {
        "id": "Le2jbFoabqE5"
      },
      "execution_count": null,
      "outputs": []
    },
    {
      "cell_type": "code",
      "source": [
        "plt.hist(df['Age'], bins=20, color='purple')\n",
        "plt.xlabel('Age')\n",
        "plt.ylabel('Frequency')\n",
        "plt.title('Age Distribution')\n",
        "plt.show()"
      ],
      "metadata": {
        "id": "jfOMVtOQbqBJ"
      },
      "execution_count": null,
      "outputs": []
    },
    {
      "cell_type": "code",
      "source": [
        "countFemale = len(df[df.Sex == 0])\n",
        "countMale = len(df[df.Sex == 1])\n",
        "\n",
        "total_count = len(df)\n",
        "percentage_female = (countFemale / total_count) * 100\n",
        "percentage_male = (countMale / total_count) * 100\n",
        "\n",
        "print(\"Percentage of Female Patients:{:.2f}%\".format((countFemale)/(len(df.Sex))*100))\n",
        "print(\"Percentage of Male Patients:{:.2f}%\".format((countMale)/(len(df.Sex))*100))"
      ],
      "metadata": {
        "id": "on7vph1Dbp-p"
      },
      "execution_count": null,
      "outputs": []
    },
    {
      "cell_type": "code",
      "source": [
        "sns.set(style=\"whitegrid\")\n",
        "plt.figure(figsize=(8, 6))\n",
        "sns.barplot(x=['Female', 'Male'], y=[percentage_female, percentage_male], palette='pastel')\n",
        "plt.xlabel('Gender')\n",
        "plt.ylabel('Percentage')\n",
        "plt.title('Percentage of Female and Male Patients')\n",
        "plt.show()"
      ],
      "metadata": {
        "id": "nHWN-xBvb3eC"
      },
      "execution_count": null,
      "outputs": []
    },
    {
      "cell_type": "code",
      "source": [
        "counts =df['Heart Disease'].value_counts()\n",
        "l =['No Heart Disease', 'Heart Disease']\n",
        "sizes =counts.values\n",
        "plt.figure(figsize=(6, 6))\n",
        "colors = ['#ff9999', '#66b3ff']\n",
        "plt.pie(sizes, labels=l, autopct='%2.2f%%', colors=colors)\n",
        "plt.title('Percentage of People with Heart Disease')\n",
        "plt.show()"
      ],
      "metadata": {
        "id": "WVEWqkiDcUJI"
      },
      "execution_count": null,
      "outputs": []
    },
    {
      "cell_type": "code",
      "source": [
        "plt.figure(figsize=(10, 6))\n",
        "sns.barplot(x='Chest pain type', y='Cholesterol', data=df, ci=\"sd\", palette='pastel')\n",
        "plt.xlabel('Chest Pain Type')\n",
        "plt.ylabel('Average Cholesterol Level')\n",
        "plt.title('Average Cholesterol Level by Chest Pain Type')\n",
        "plt.show()"
      ],
      "metadata": {
        "id": "JrbPiDvHcWgH"
      },
      "execution_count": null,
      "outputs": []
    },
    {
      "cell_type": "code",
      "source": [
        "plt.figure(figsize=(10,7))\n",
        "sns.heatmap(df.corr(), annot=True, vmin=-1, vmax=1,fmt=\".2f\")"
      ],
      "metadata": {
        "id": "-neH50tMca4M"
      },
      "execution_count": null,
      "outputs": []
    },
    {
      "cell_type": "code",
      "source": [
        "corr=df.corr()\n",
        "mask=np.triu(np.ones_like(corr,dtype=bool))\n",
        "f,ax = plt.subplots(figsize=(15,12))\n",
        "cmap = sns.diverging_palette(230,20, as_cmap=True)\n",
        "sns.heatmap(corr,cmap=cmap,mask=mask,linewidth=0.5,square=True,center=0)"
      ],
      "metadata": {
        "id": "ByirSdGKcniH"
      },
      "execution_count": null,
      "outputs": []
    },
    {
      "cell_type": "code",
      "source": [
        "df.head()"
      ],
      "metadata": {
        "id": "0z2AuQ1rdPqO"
      },
      "execution_count": null,
      "outputs": []
    },
    {
      "cell_type": "markdown",
      "source": [
        "Chi-Square Test"
      ],
      "metadata": {
        "id": "aczdx8fgdbz3"
      }
    },
    {
      "cell_type": "code",
      "source": [],
      "metadata": {
        "id": "LRnl9uT7dRXl"
      },
      "execution_count": null,
      "outputs": []
    },
    {
      "cell_type": "code",
      "source": [],
      "metadata": {
        "id": "fBD7X8XbdRU2"
      },
      "execution_count": null,
      "outputs": []
    },
    {
      "cell_type": "code",
      "source": [
        "y = df[\"Heart Disease\"]\n",
        "X = df.drop('Heart Disease',axis=1)\n",
        "X_train, X_test, y_train, y_test = train_test_split(X, y, test_size=0.20, random_state = 0)"
      ],
      "metadata": {
        "id": "u8JcYyzbcnaq"
      },
      "execution_count": null,
      "outputs": []
    }
  ]
}